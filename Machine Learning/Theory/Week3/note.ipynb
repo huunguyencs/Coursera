{
 "metadata": {
  "language_info": {
   "codemirror_mode": {
    "name": "ipython",
    "version": 3
   },
   "file_extension": ".py",
   "mimetype": "text/x-python",
   "name": "python",
   "nbconvert_exporter": "python",
   "pygments_lexer": "ipython3",
   "version": 3
  },
  "orig_nbformat": 2
 },
 "nbformat": 4,
 "nbformat_minor": 2,
 "cells": [
  {
   "source": [
    "## Classification and Representation\n",
    "\n",
    "- **Classification**\n",
    "\n",
    "    - The classification is just look like regression problem, except that the values we now want to predict take on only s small number of discrete values.\n",
    "\n",
    "    - Focus on the **binary classification problem** in which y can take on only 2 values 0 and 1. 0 is called \"negative class\" (-), and 1 the \"positive class\" (+).\n",
    "\n",
    "- **Hypothesis Representation**\n",
    "\n",
    "    - Let's change the form for our hypothesis $h_\\theta(x)$ to satisfy $0 \\le h_\\theta(x) \\le 1$. This is accomplished by plugging $\\theta^Tx$ into the Logistic Function (or Sigmoid Function):\n",
    "\n",
    "        $$h_\\theta(x) = g(\\theta^Tx)$$\n",
    "\n",
    "        When: \n",
    "        \n",
    "        $z = \\theta^Tx$\n",
    "        \n",
    "        $g(z) = \\dfrac{1}{1 + e^{-z}}$\n",
    "    \n",
    "    - With the sigmoid function, when z go to $-\\infty$, h will go to 0 (actually when z=-5, h will be very near 0) and when z go to $+\\infty$, h will go to 1 (actually when z=5, h will be very near 1).\n",
    "\n",
    "    - $h_\\theta(x)$ will give us the **probability** that our output is 1. For example, $h_\\theta(x) = 0.7$ gives us a probability of 70% that our output is 1 and 30% that our output is 0.\n",
    "\n",
    "        $h_\\theta(x) = P(y=1|x;\\theta) = 1 - P(y = 0|x;\\theta)$ "
   ],
   "cell_type": "markdown",
   "metadata": {}
  }
 ]
}