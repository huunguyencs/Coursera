{
 "metadata": {
  "language_info": {
   "codemirror_mode": {
    "name": "ipython",
    "version": 3
   },
   "file_extension": ".py",
   "mimetype": "text/x-python",
   "name": "python",
   "nbconvert_exporter": "python",
   "pygments_lexer": "ipython3",
   "version": 3
  },
  "orig_nbformat": 2
 },
 "nbformat": 4,
 "nbformat_minor": 2,
 "cells": [
  {
   "source": [
    "## Multivariate Linear Regression\n",
    "\n",
    "- **Multiple Feature**\n",
    "    The multivariable form of the hypothesis function:\n",
    "    $h_\\theta(x) = \\theta_0 + \\theta_1x_1 + \\theta_2x_2 + ... + \\theta_nx_n$\n",
    "\n",
    "    Using the definition of matrix multiplication:\n",
    "\n",
    "    $h_\\theta(x) = [\\theta_0  \\theta_1 ... \\theta_n]\\begin{bmatrix}x_0\\\\x_1\\\\...\\\\x_n\\end{bmatrix} = \\theta^Tx$\n",
    "\n",
    "    when $x_0$ = 1\n",
    "\n",
    "- **Gradient Descent For Multiple Variables**\n",
    "\n",
    "    $\\theta_j = \\theta_j - \\alpha\\frac{1}{m}\\sum_{i=1}^m(h_\\theta(x^{(i)})-y^{(i)})x_j^{(j)}$\n",
    "\n",
    "    We will repeat until convergence.\n",
    "\n",
    "    - Remind:\n",
    "        - $x^{(i)}$, $y^{(i)}$ is traing example $i^{th}$ (row i in training set)\n",
    "        - $x_j^{(i)}$ is feature $j^{th}$ in training example $i^{th}$ (row i column j in training set)\n",
    "\n",
    "- **Gradient Descent in Practice - Feature Scaling**\n",
    "    We can speed up gradient descent by having each of our input values in roughly the same range.\n",
    "    Two techniques to help with this are **feature scaling** and **mean normalization**\n",
    "\n",
    "    - Feature scaling involves diving the input values by the range of the input variable, resulting in a new range of just 1.\n",
    "    - Mean normalization involves subtracting the average value for an input variable from the values for that input variable resulting in a new average value for input variable for just zero:\n",
    "    \n",
    "        $x_i := \\dfrac{x_i - \\mu_i}{s_i}$\n",
    "        \n",
    "        where $\\mu_i$ is average of feature(i) and $s_i$ the range of values (max - min), or $s_i$ is the standard deviation"
   ],
   "cell_type": "markdown",
   "metadata": {}
  }
 ]
}