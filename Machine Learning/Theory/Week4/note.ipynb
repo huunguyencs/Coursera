{
 "metadata": {
  "language_info": {
   "codemirror_mode": {
    "name": "ipython",
    "version": 3
   },
   "file_extension": ".py",
   "mimetype": "text/x-python",
   "name": "python",
   "nbconvert_exporter": "python",
   "pygments_lexer": "ipython3",
   "version": 3
  },
  "orig_nbformat": 2
 },
 "nbformat": 4,
 "nbformat_minor": 2,
 "cells": [
  {
   "source": [
    "# Neural Networks: Representation\n",
    "\n",
    "## Motivations\n",
    "\n",
    "- **Non-linear Hypotheses**\n",
    "\n",
    "- **Neurons and Brain**"
   ],
   "cell_type": "markdown",
   "metadata": {}
  }
 ]
}