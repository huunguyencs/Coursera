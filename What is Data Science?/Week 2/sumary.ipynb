{
 "metadata": {
  "language_info": {
   "codemirror_mode": {
    "name": "ipython",
    "version": 3
   },
   "file_extension": ".py",
   "mimetype": "text/x-python",
   "name": "python",
   "nbconvert_exporter": "python",
   "pygments_lexer": "ipython3",
   "version": 3
  },
  "orig_nbformat": 2
 },
 "nbformat": 4,
 "nbformat_minor": 2,
 "cells": [
  {
   "source": [
    "## Data mining\n",
    "\n",
    "- **Establishing Data Mining Goals**\n",
    "    - You must identify the key questions that need to be answered.\n",
    "    - Identify the key questions are the concerns about the costs and benefits of the exercise.\n",
    "    - Furthermore, you must determine, in advance, the expected level of accuracy and usefulness of the results obtained from data mining.\n",
    "\n",
    "- **Selecting data**\n",
    "    - The output of a data mining exercise largely depends upon the quality of data being used.\n",
    "    - The type of data, its size, and frequency of collection have a direct bearing on the cost of data mining exercise.\n",
    "\n",
    "- **Preprocessing data**\n",
    "    - Often raw data are messy, containing erroneous or irrelevant data. In addition, even with relevant data, information is sometimes missing.\n",
    "    - Identify the irrelevant attributes of data and expunge such attributes from further consideration. At the same time, identifying the erroneous aspects of the data set and flagging them as such is necessay.\n",
    "\n",
    "    - Data missing randomly or systematically: if the data missing randomly, a simple set of solutions would suffice. When data are missing in a systematically way, must determine the impact of missing data on the results, consider in advance if observations or variables containing missing data be excluded from the entire analysis or parts of it.\n",
    "\n",
    "- **Transforming data**\n",
    "    - Reduce the number of attributes needed to explain the phenomena.\n",
    "    - Data reduction algorithms, such as Principal Component Analysis, can reduce the number of attributes without a significant loss in information. In addition, variables may need to be transformed to help explain the phenomenon being studied.\n",
    "    - Often you need to transform variables from one type to another.\n",
    "\n",
    "- **Storing Data**\n",
    "    - The data must be stored in a format that gives unrestricted and immediate read/write privileges to the data scientist.\n",
    "    - It is also important to store data on servers or storage media that keeps the data secure and also prevents the data mining algorithm from unnecessarily searching for pieces of data scattered on different servers or storage media.\n",
    "\n",
    "- **Mining Data**\n",
    "    - This step covers data analysis methods, including parametric and non-parametric methods,\n",
    "    and machine learning algorithms.\n",
    "    - A good starting point for data mining is data visualization.\n",
    "\n",
    "- **Evaluating Mining results**\n",
    "    - Formal evaluating could include testing the predictive capabilities of the models on observed data to see how effective and efficient the algorithms have been in reproducing (in-sample forecast).\n",
    "    - In addition the results are shared with the key stakeholders for feedback, which is then incorporated in the later iterations of data mining to improve the process.\n",
    "    "
   ],
   "cell_type": "markdown",
   "metadata": {}
  }
 ]
}