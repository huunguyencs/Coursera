{
 "metadata": {
  "language_info": {
   "codemirror_mode": {
    "name": "ipython",
    "version": 3
   },
   "file_extension": ".py",
   "mimetype": "text/x-python",
   "name": "python",
   "nbconvert_exporter": "python",
   "pygments_lexer": "ipython3",
   "version": 3
  },
  "orig_nbformat": 2
 },
 "nbformat": 4,
 "nbformat_minor": 2,
 "cells": [
  {
   "source": [
    "## Defining Data Science\n",
    "\n",
    "- Data science is the study of large quantities of data, which can reveal insights that help organizations make strategic choices.\n",
    "\n",
    "- There are many paths to a carreer in data science; most, but not all, involve a litle math, a litle science, and a lot of curiosity about data.\n",
    "\n",
    "- New data scientists need to be curious, judgemental and argumentative.\n",
    "\n",
    "\n",
    "[Data Science: The Sexiest Job in the 21st Century](https://cf-courses-data.s3.us.cloud-object-storage.appdomain.cloud/IBMDeveloperSkillsNetwork-DS0101EN-SkillsNetwork/labs/Module%201/Data_Science_The_Sexiest_Job.md.html)\n",
    "\n",
    "[What Makes Someone a Data Scientist?](https://cf-courses-data.s3.us.cloud-object-storage.appdomain.cloud/IBMDeveloperSkillsNetwork-DS0101EN-SkillsNetwork/labs/Module%201/Reading_What_Makes_Someone_DataScientist.md.html)"
   ],
   "cell_type": "markdown",
   "metadata": {}
  }
 ]
}